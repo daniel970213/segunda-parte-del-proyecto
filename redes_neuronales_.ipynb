{
  "nbformat": 4,
  "nbformat_minor": 0,
  "metadata": {
    "colab": {
      "name": "redes neuronales.",
      "provenance": [],
      "include_colab_link": true
    },
    "kernelspec": {
      "name": "python3",
      "display_name": "Python 3"
    }
  },
  "cells": [
    {
      "cell_type": "markdown",
      "metadata": {
        "id": "view-in-github",
        "colab_type": "text"
      },
      "source": [
        "<a href=\"https://colab.research.google.com/github/daniel970213/segunda-parte-del-proyecto/blob/main/redes_neuronales_.ipynb\" target=\"_parent\"><img src=\"https://colab.research.google.com/assets/colab-badge.svg\" alt=\"Open In Colab\"/></a>"
      ]
    },
    {
      "cell_type": "code",
      "metadata": {
        "id": "liMvsOfrTnxI"
      },
      "source": [
        "# cargamos las librerias a utilizar\n",
        "\n",
        "import pandas as pd\n",
        "import numpy as np\n",
        "import matplotlib.pylab as plt\n",
        "\n",
        "plt.rcParams['figure.figsize'] = (16, 9)\n",
        "plt.style.use('fast')\n",
        " \n",
        "from keras.models import Sequential\n",
        "from keras.layers import Dense,Activation,Flatten\n",
        "from sklearn.preprocessing import MinMaxScaler\n",
        " \n"
      ],
      "execution_count": null,
      "outputs": []
    },
    {
      "cell_type": "code",
      "metadata": {
        "id": "It0QFxXux7HD"
      },
      "source": [
        "# esta celda sirve para dar permiso al accedo de tus archivos del gdrive\n",
        "link ='https://docs.google.com/spreadsheets/d/e/2PACX-1vTRmmsm3qKHPv04W2q5Vp57bVLa6tc706boLNhS7mVtH1hh4gpkAfRT7d1XsQYd1g/pub?gid=145097224&single=true&output=csv'"
      ],
      "execution_count": null,
      "outputs": []
    },
    {
      "cell_type": "code",
      "metadata": {
        "id": "1mQS7xrtx5IX",
        "colab": {
          "base_uri": "https://localhost:8080/",
          "height": 206
        },
        "outputId": "97937d40-cfd7-4ee6-d284-95bfec669b61"
      },
      "source": [
        "df = pd.read_csv(link)\n",
        "df.head()"
      ],
      "execution_count": null,
      "outputs": [
        {
          "output_type": "execute_result",
          "data": {
            "text/html": [
              "<div>\n",
              "<style scoped>\n",
              "    .dataframe tbody tr th:only-of-type {\n",
              "        vertical-align: middle;\n",
              "    }\n",
              "\n",
              "    .dataframe tbody tr th {\n",
              "        vertical-align: top;\n",
              "    }\n",
              "\n",
              "    .dataframe thead th {\n",
              "        text-align: right;\n",
              "    }\n",
              "</style>\n",
              "<table border=\"1\" class=\"dataframe\">\n",
              "  <thead>\n",
              "    <tr style=\"text-align: right;\">\n",
              "      <th></th>\n",
              "      <th>timestamp</th>\n",
              "      <th>demand</th>\n",
              "    </tr>\n",
              "  </thead>\n",
              "  <tbody>\n",
              "    <tr>\n",
              "      <th>0</th>\n",
              "      <td>1964-01-01</td>\n",
              "      <td>2815</td>\n",
              "    </tr>\n",
              "    <tr>\n",
              "      <th>1</th>\n",
              "      <td>1964-02-01</td>\n",
              "      <td>2672</td>\n",
              "    </tr>\n",
              "    <tr>\n",
              "      <th>2</th>\n",
              "      <td>1964-03-01</td>\n",
              "      <td>2755</td>\n",
              "    </tr>\n",
              "    <tr>\n",
              "      <th>3</th>\n",
              "      <td>1964-04-01</td>\n",
              "      <td>2721</td>\n",
              "    </tr>\n",
              "    <tr>\n",
              "      <th>4</th>\n",
              "      <td>1964-05-01</td>\n",
              "      <td>2946</td>\n",
              "    </tr>\n",
              "  </tbody>\n",
              "</table>\n",
              "</div>"
            ],
            "text/plain": [
              "    timestamp  demand\n",
              "0  1964-01-01    2815\n",
              "1  1964-02-01    2672\n",
              "2  1964-03-01    2755\n",
              "3  1964-04-01    2721\n",
              "4  1964-05-01    2946"
            ]
          },
          "metadata": {
            "tags": []
          },
          "execution_count": 17
        }
      ]
    },
    {
      "cell_type": "code",
      "metadata": {
        "id": "LD01sojDT6HE"
      },
      "source": [
        "df.timestamp = pd.to_datetime(df.timestamp,)"
      ],
      "execution_count": null,
      "outputs": []
    },
    {
      "cell_type": "code",
      "metadata": {
        "id": "aCkd6WFvTkjC",
        "colab": {
          "base_uri": "https://localhost:8080/",
          "height": 237
        },
        "outputId": "82fda248-fec4-47f3-9c59-ab2d61cc8d92"
      },
      "source": [
        "# al mes lo ponemos como indice\n",
        "\n",
        "df.set_index('timestamp',inplace=True,)\n",
        "df.head()"
      ],
      "execution_count": null,
      "outputs": [
        {
          "output_type": "execute_result",
          "data": {
            "text/html": [
              "<div>\n",
              "<style scoped>\n",
              "    .dataframe tbody tr th:only-of-type {\n",
              "        vertical-align: middle;\n",
              "    }\n",
              "\n",
              "    .dataframe tbody tr th {\n",
              "        vertical-align: top;\n",
              "    }\n",
              "\n",
              "    .dataframe thead th {\n",
              "        text-align: right;\n",
              "    }\n",
              "</style>\n",
              "<table border=\"1\" class=\"dataframe\">\n",
              "  <thead>\n",
              "    <tr style=\"text-align: right;\">\n",
              "      <th></th>\n",
              "      <th>demand</th>\n",
              "    </tr>\n",
              "    <tr>\n",
              "      <th>timestamp</th>\n",
              "      <th></th>\n",
              "    </tr>\n",
              "  </thead>\n",
              "  <tbody>\n",
              "    <tr>\n",
              "      <th>1964-01-01</th>\n",
              "      <td>2815</td>\n",
              "    </tr>\n",
              "    <tr>\n",
              "      <th>1964-02-01</th>\n",
              "      <td>2672</td>\n",
              "    </tr>\n",
              "    <tr>\n",
              "      <th>1964-03-01</th>\n",
              "      <td>2755</td>\n",
              "    </tr>\n",
              "    <tr>\n",
              "      <th>1964-04-01</th>\n",
              "      <td>2721</td>\n",
              "    </tr>\n",
              "    <tr>\n",
              "      <th>1964-05-01</th>\n",
              "      <td>2946</td>\n",
              "    </tr>\n",
              "  </tbody>\n",
              "</table>\n",
              "</div>"
            ],
            "text/plain": [
              "            demand\n",
              "timestamp         \n",
              "1964-01-01    2815\n",
              "1964-02-01    2672\n",
              "1964-03-01    2755\n",
              "1964-04-01    2721\n",
              "1964-05-01    2946"
            ]
          },
          "metadata": {
            "tags": []
          },
          "execution_count": 19
        }
      ]
    },
    {
      "cell_type": "code",
      "metadata": {
        "id": "P2XV2CyHT3sW",
        "colab": {
          "base_uri": "https://localhost:8080/"
        },
        "outputId": "92589ee9-b65a-4dc9-bba3-45bdc4f60744"
      },
      "source": [
        "# para ver el rango de fechas va de enero 2017 a noviembre 2018\n",
        "\n",
        "print(df.index.min())\n",
        "print(df.index.max())"
      ],
      "execution_count": null,
      "outputs": [
        {
          "output_type": "stream",
          "text": [
            "1964-01-01 00:00:00\n",
            "1972-09-01 00:00:00\n"
          ],
          "name": "stdout"
        }
      ]
    },
    {
      "cell_type": "code",
      "metadata": {
        "id": "KWEUapBKZ1pM",
        "colab": {
          "base_uri": "https://localhost:8080/"
        },
        "outputId": "0e681786-a4e5-481f-87d7-708dcab399ee"
      },
      "source": [
        "df.shape"
      ],
      "execution_count": null,
      "outputs": [
        {
          "output_type": "execute_result",
          "data": {
            "text/plain": [
              "(105, 1)"
            ]
          },
          "metadata": {
            "tags": []
          },
          "execution_count": 21
        }
      ]
    },
    {
      "cell_type": "code",
      "metadata": {
        "id": "x4DNshnoUD77",
        "colab": {
          "base_uri": "https://localhost:8080/"
        },
        "outputId": "e5faa1d7-88cf-4027-e3e6-4f2e9f1a47eb"
      },
      "source": [
        "# cantidad de registros por año\n",
        "\n",
        "print(len(df['1964']))\n",
        "print(len(df['1972']))"
      ],
      "execution_count": null,
      "outputs": [
        {
          "output_type": "stream",
          "text": [
            "12\n",
            "9\n"
          ],
          "name": "stdout"
        }
      ]
    },
    {
      "cell_type": "code",
      "metadata": {
        "id": "vleVkqF3UbDQ",
        "colab": {
          "base_uri": "https://localhost:8080/",
          "height": 300
        },
        "outputId": "ef1373b9-f02e-45bd-a9de-008cfabe676c"
      },
      "source": [
        "# ver estadísticos básicos\n",
        "\n",
        "df.describe()"
      ],
      "execution_count": null,
      "outputs": [
        {
          "output_type": "execute_result",
          "data": {
            "text/html": [
              "<div>\n",
              "<style scoped>\n",
              "    .dataframe tbody tr th:only-of-type {\n",
              "        vertical-align: middle;\n",
              "    }\n",
              "\n",
              "    .dataframe tbody tr th {\n",
              "        vertical-align: top;\n",
              "    }\n",
              "\n",
              "    .dataframe thead th {\n",
              "        text-align: right;\n",
              "    }\n",
              "</style>\n",
              "<table border=\"1\" class=\"dataframe\">\n",
              "  <thead>\n",
              "    <tr style=\"text-align: right;\">\n",
              "      <th></th>\n",
              "      <th>demand</th>\n",
              "    </tr>\n",
              "  </thead>\n",
              "  <tbody>\n",
              "    <tr>\n",
              "      <th>count</th>\n",
              "      <td>105.000000</td>\n",
              "    </tr>\n",
              "    <tr>\n",
              "      <th>mean</th>\n",
              "      <td>4761.152381</td>\n",
              "    </tr>\n",
              "    <tr>\n",
              "      <th>std</th>\n",
              "      <td>2553.502601</td>\n",
              "    </tr>\n",
              "    <tr>\n",
              "      <th>min</th>\n",
              "      <td>1413.000000</td>\n",
              "    </tr>\n",
              "    <tr>\n",
              "      <th>25%</th>\n",
              "      <td>3113.000000</td>\n",
              "    </tr>\n",
              "    <tr>\n",
              "      <th>50%</th>\n",
              "      <td>4217.000000</td>\n",
              "    </tr>\n",
              "    <tr>\n",
              "      <th>75%</th>\n",
              "      <td>5221.000000</td>\n",
              "    </tr>\n",
              "    <tr>\n",
              "      <th>max</th>\n",
              "      <td>13916.000000</td>\n",
              "    </tr>\n",
              "  </tbody>\n",
              "</table>\n",
              "</div>"
            ],
            "text/plain": [
              "             demand\n",
              "count    105.000000\n",
              "mean    4761.152381\n",
              "std     2553.502601\n",
              "min     1413.000000\n",
              "25%     3113.000000\n",
              "50%     4217.000000\n",
              "75%     5221.000000\n",
              "max    13916.000000"
            ]
          },
          "metadata": {
            "tags": []
          },
          "execution_count": 23
        }
      ]
    },
    {
      "cell_type": "code",
      "metadata": {
        "id": "qbT7Z2JuUcnn",
        "colab": {
          "base_uri": "https://localhost:8080/",
          "height": 283
        },
        "outputId": "e484f41a-e547-4839-fdbf-a4a90afaa5a8"
      },
      "source": [
        "plt.plot(df.index,df.demand)"
      ],
      "execution_count": null,
      "outputs": [
        {
          "output_type": "execute_result",
          "data": {
            "text/plain": [
              "[<matplotlib.lines.Line2D at 0x7faeef33c490>]"
            ]
          },
          "metadata": {
            "tags": []
          },
          "execution_count": 24
        },
        {
          "output_type": "display_data",
          "data": {
            "image/png": "[encoded data removed]",
            "text/plain": [
              "<Figure size 432x288 with 1 Axes>"
            ]
          },
          "metadata": {
            "tags": [],
            "needs_background": "light"
          }
        }
      ]
    },
    {
      "cell_type": "code",
      "metadata": {
        "id": "dmKTbGDxUbNL",
        "colab": {
          "base_uri": "https://localhost:8080/",
          "height": 237
        },
        "outputId": "f18bb99c-4e42-4a0e-dcb4-aec309e68b04"
      },
      "source": [
        "# cálculo de la media por mes\n",
        "\n",
        "meses =df.resample('M').mean()\n",
        "meses.head()"
      ],
      "execution_count": null,
      "outputs": [
        {
          "output_type": "execute_result",
          "data": {
            "text/html": [
              "<div>\n",
              "<style scoped>\n",
              "    .dataframe tbody tr th:only-of-type {\n",
              "        vertical-align: middle;\n",
              "    }\n",
              "\n",
              "    .dataframe tbody tr th {\n",
              "        vertical-align: top;\n",
              "    }\n",
              "\n",
              "    .dataframe thead th {\n",
              "        text-align: right;\n",
              "    }\n",
              "</style>\n",
              "<table border=\"1\" class=\"dataframe\">\n",
              "  <thead>\n",
              "    <tr style=\"text-align: right;\">\n",
              "      <th></th>\n",
              "      <th>demand</th>\n",
              "    </tr>\n",
              "    <tr>\n",
              "      <th>timestamp</th>\n",
              "      <th></th>\n",
              "    </tr>\n",
              "  </thead>\n",
              "  <tbody>\n",
              "    <tr>\n",
              "      <th>1964-01-31</th>\n",
              "      <td>2815</td>\n",
              "    </tr>\n",
              "    <tr>\n",
              "      <th>1964-02-29</th>\n",
              "      <td>2672</td>\n",
              "    </tr>\n",
              "    <tr>\n",
              "      <th>1964-03-31</th>\n",
              "      <td>2755</td>\n",
              "    </tr>\n",
              "    <tr>\n",
              "      <th>1964-04-30</th>\n",
              "      <td>2721</td>\n",
              "    </tr>\n",
              "    <tr>\n",
              "      <th>1964-05-31</th>\n",
              "      <td>2946</td>\n",
              "    </tr>\n",
              "  </tbody>\n",
              "</table>\n",
              "</div>"
            ],
            "text/plain": [
              "            demand\n",
              "timestamp         \n",
              "1964-01-31    2815\n",
              "1964-02-29    2672\n",
              "1964-03-31    2755\n",
              "1964-04-30    2721\n",
              "1964-05-31    2946"
            ]
          },
          "metadata": {
            "tags": []
          },
          "execution_count": 26
        }
      ]
    },
    {
      "cell_type": "code",
      "metadata": {
        "id": "XFHhPt-LUbSu",
        "colab": {
          "base_uri": "https://localhost:8080/",
          "height": 283
        },
        "outputId": "966384ee-49a7-4e77-9d8b-93d8d018e027"
      },
      "source": [
        "# Comparando las ventas mensuales los años 1971 y 1972\n",
        "\n",
        "plt.plot(meses['1970'].values,color='r')\n",
        "plt.plot(meses['1971'].values,color='g')\n",
        "plt.plot(meses['1972'].values,color='b')"
      ],
      "execution_count": null,
      "outputs": [
        {
          "output_type": "execute_result",
          "data": {
            "text/plain": [
              "[<matplotlib.lines.Line2D at 0x7faeef2339d0>]"
            ]
          },
          "metadata": {
            "tags": []
          },
          "execution_count": 27
        },
        {
          "output_type": "display_data",
          "data": {
            "image/png": "[encoded data removed]",
            "text/plain": [
              "<Figure size 432x288 with 1 Axes>"
            ]
          },
          "metadata": {
            "tags": [],
            "needs_background": "light"
          }
        }
      ]
    },
    {
      "cell_type": "code",
      "metadata": {
        "id": "tkeDG1UwUbXm",
        "colab": {
          "base_uri": "https://localhost:8080/",
          "height": 283
        },
        "outputId": "b18a14c4-7b39-4ae2-be0f-de2996b18a1b"
      },
      "source": [
        "# comparo 2 periodos de tiempo\n",
        "\n",
        "verano1970 = df['1969-01-01':'1970-12-01']\n",
        "plt.plot(verano1970.values)\n",
        "verano1971 = df['1971-01-01':'1972-12-01']\n",
        "plt.plot(verano1971.values)"
      ],
      "execution_count": null,
      "outputs": [
        {
          "output_type": "execute_result",
          "data": {
            "text/plain": [
              "[<matplotlib.lines.Line2D at 0x7faeef1bbf50>]"
            ]
          },
          "metadata": {
            "tags": []
          },
          "execution_count": 28
        },
        {
          "output_type": "display_data",
          "data": {
            "image/png": "[encoded data removed]",
            "text/plain": [
              "<Figure size 432x288 with 1 Axes>"
            ]
          },
          "metadata": {
            "tags": [],
            "needs_background": "light"
          }
        }
      ]
    },
    {
      "cell_type": "code",
      "metadata": {
        "id": "__vbFH7LUbcD",
        "colab": {
          "base_uri": "https://localhost:8080/",
          "height": 206
        },
        "outputId": "ac538cd7-74f2-4a44-d60a-09c19e607941"
      },
      "source": [
        "## iniciamos la NN\n",
        "\n",
        "## PASOS es la cantidad de predictores \n",
        "\n",
        "PASOS=12\n",
        "\n",
        "# convert series to supervised learning\n",
        "def series_to_supervised(data, n_in=1, n_out=1, dropnan=True):\n",
        "    n_vars = 1 if type(data) is list else data.shape[1]\n",
        "    df = pd.DataFrame(data)\n",
        "    cols, names = list(), list()\n",
        "    # input sequence (t-n, ... t-1)\n",
        "    for i in range(n_in, 0, -1):\n",
        "        cols.append(df.shift(i))\n",
        "        names += [('var%d(t-%d)' % (j+1, i)) for j in range(n_vars)]\n",
        "    # forecast sequence (t, t+1, ... t+n)\n",
        "    for i in range(0, n_out):\n",
        "        cols.append(df.shift(-i))\n",
        "        if i == 0:\n",
        "            names += [('var%d(t)' % (j+1)) for j in range(n_vars)]\n",
        "        else:\n",
        "            names += [('var%d(t+%d)' % (j+1, i)) for j in range(n_vars)]\n",
        "    # put it all together\n",
        "    agg = pd.concat(cols, axis=1)\n",
        "    agg.columns = names\n",
        "    # drop rows with NaN values\n",
        "    if dropnan:\n",
        "        agg.dropna(inplace=True)\n",
        "    return agg\n",
        " \n",
        "# load dataset\n",
        "values = df.values\n",
        "# ensure all data is float\n",
        "values = values.astype('float32')\n",
        "# normalize features\n",
        "scaler = MinMaxScaler(feature_range=(-1, 1))\n",
        "values=values.reshape(-1, 1) # esto lo hacemos porque tenemos 1 sola dimension\n",
        "scaled = scaler.fit_transform(values)\n",
        "# frame as supervised learning\n",
        "reframed = series_to_supervised(scaled, PASOS, 1)\n",
        "reframed.head()"
      ],
      "execution_count": null,
      "outputs": [
        {
          "output_type": "execute_result",
          "data": {
            "text/html": [
              "<div>\n",
              "<style scoped>\n",
              "    .dataframe tbody tr th:only-of-type {\n",
              "        vertical-align: middle;\n",
              "    }\n",
              "\n",
              "    .dataframe tbody tr th {\n",
              "        vertical-align: top;\n",
              "    }\n",
              "\n",
              "    .dataframe thead th {\n",
              "        text-align: right;\n",
              "    }\n",
              "</style>\n",
              "<table border=\"1\" class=\"dataframe\">\n",
              "  <thead>\n",
              "    <tr style=\"text-align: right;\">\n",
              "      <th></th>\n",
              "      <th>var1(t-12)</th>\n",
              "      <th>var1(t-11)</th>\n",
              "      <th>var1(t-10)</th>\n",
              "      <th>var1(t-9)</th>\n",
              "      <th>var1(t-8)</th>\n",
              "      <th>var1(t-7)</th>\n",
              "      <th>var1(t-6)</th>\n",
              "      <th>var1(t-5)</th>\n",
              "      <th>var1(t-4)</th>\n",
              "      <th>var1(t-3)</th>\n",
              "      <th>var1(t-2)</th>\n",
              "      <th>var1(t-1)</th>\n",
              "      <th>var1(t)</th>\n",
              "    </tr>\n",
              "  </thead>\n",
              "  <tbody>\n",
              "    <tr>\n",
              "      <th>12</th>\n",
              "      <td>-0.775734</td>\n",
              "      <td>-0.798608</td>\n",
              "      <td>-0.785331</td>\n",
              "      <td>-0.790770</td>\n",
              "      <td>-0.754779</td>\n",
              "      <td>-0.740382</td>\n",
              "      <td>-0.860993</td>\n",
              "      <td>-0.872191</td>\n",
              "      <td>-0.758618</td>\n",
              "      <td>-0.538031</td>\n",
              "      <td>-0.304007</td>\n",
              "      <td>-0.056386</td>\n",
              "      <td>-0.819563</td>\n",
              "    </tr>\n",
              "    <tr>\n",
              "      <th>13</th>\n",
              "      <td>-0.798608</td>\n",
              "      <td>-0.785331</td>\n",
              "      <td>-0.790770</td>\n",
              "      <td>-0.754779</td>\n",
              "      <td>-0.740382</td>\n",
              "      <td>-0.860993</td>\n",
              "      <td>-0.872191</td>\n",
              "      <td>-0.758618</td>\n",
              "      <td>-0.538031</td>\n",
              "      <td>-0.304007</td>\n",
              "      <td>-0.056386</td>\n",
              "      <td>-0.819563</td>\n",
              "      <td>-0.830121</td>\n",
              "    </tr>\n",
              "    <tr>\n",
              "      <th>14</th>\n",
              "      <td>-0.785331</td>\n",
              "      <td>-0.790770</td>\n",
              "      <td>-0.754779</td>\n",
              "      <td>-0.740382</td>\n",
              "      <td>-0.860993</td>\n",
              "      <td>-0.872191</td>\n",
              "      <td>-0.758618</td>\n",
              "      <td>-0.538031</td>\n",
              "      <td>-0.304007</td>\n",
              "      <td>-0.056386</td>\n",
              "      <td>-0.819563</td>\n",
              "      <td>-0.830121</td>\n",
              "      <td>-0.741182</td>\n",
              "    </tr>\n",
              "    <tr>\n",
              "      <th>15</th>\n",
              "      <td>-0.790770</td>\n",
              "      <td>-0.754779</td>\n",
              "      <td>-0.740382</td>\n",
              "      <td>-0.860993</td>\n",
              "      <td>-0.872191</td>\n",
              "      <td>-0.758618</td>\n",
              "      <td>-0.538031</td>\n",
              "      <td>-0.304007</td>\n",
              "      <td>-0.056386</td>\n",
              "      <td>-0.819563</td>\n",
              "      <td>-0.830121</td>\n",
              "      <td>-0.741182</td>\n",
              "      <td>-0.703591</td>\n",
              "    </tr>\n",
              "    <tr>\n",
              "      <th>16</th>\n",
              "      <td>-0.754779</td>\n",
              "      <td>-0.740382</td>\n",
              "      <td>-0.860993</td>\n",
              "      <td>-0.872191</td>\n",
              "      <td>-0.758618</td>\n",
              "      <td>-0.538031</td>\n",
              "      <td>-0.304007</td>\n",
              "      <td>-0.056386</td>\n",
              "      <td>-0.819563</td>\n",
              "      <td>-0.830121</td>\n",
              "      <td>-0.741182</td>\n",
              "      <td>-0.703591</td>\n",
              "      <td>-0.622011</td>\n",
              "    </tr>\n",
              "  </tbody>\n",
              "</table>\n",
              "</div>"
            ],
            "text/plain": [
              "    var1(t-12)  var1(t-11)  var1(t-10)  ...  var1(t-2)  var1(t-1)   var1(t)\n",
              "12   -0.775734   -0.798608   -0.785331  ...  -0.304007  -0.056386 -0.819563\n",
              "13   -0.798608   -0.785331   -0.790770  ...  -0.056386  -0.819563 -0.830121\n",
              "14   -0.785331   -0.790770   -0.754779  ...  -0.819563  -0.830121 -0.741182\n",
              "15   -0.790770   -0.754779   -0.740382  ...  -0.830121  -0.741182 -0.703591\n",
              "16   -0.754779   -0.740382   -0.860993  ...  -0.741182  -0.703591 -0.622011\n",
              "\n",
              "[5 rows x 13 columns]"
            ]
          },
          "metadata": {
            "tags": []
          },
          "execution_count": 29
        }
      ]
    },
    {
      "cell_type": "code",
      "metadata": {
        "id": "_W1JgEONUbif",
        "colab": {
          "base_uri": "https://localhost:8080/"
        },
        "outputId": "767dca97-34fc-4be2-c25b-a7468a9f8010"
      },
      "source": [
        "# split into train and test sets\n",
        "values = reframed.values\n",
        "n_train_days = 105 - (30+PASOS)\n",
        "train = values[:n_train_days, :]\n",
        "test = values[n_train_days:, :]\n",
        "# split into input and outputs\n",
        "x_train, y_train = train[:, :-1], train[:, -1]\n",
        "x_val, y_val = test[:, :-1], test[:, -1]\n",
        "# reshape input to be 3D [samples, timesteps, features]\n",
        "x_train = x_train.reshape((x_train.shape[0], 1, x_train.shape[1]))\n",
        "x_val = x_val.reshape((x_val.shape[0], 1, x_val.shape[1]))\n",
        "print(x_train.shape, y_train.shape, x_val.shape, y_val.shape)"
      ],
      "execution_count": null,
      "outputs": [
        {
          "output_type": "stream",
          "text": [
            "(63, 1, 12) (63,) (30, 1, 12) (30,)\n"
          ],
          "name": "stdout"
        }
      ]
    },
    {
      "cell_type": "code",
      "metadata": {
        "id": "nGQEmaJ0WjlR"
      },
      "source": [
        "# Creando la red neuronal\n",
        "\n",
        "def crear_modeloFF():\n",
        "    model = Sequential() \n",
        "    model.add(Dense(PASOS, input_shape=(1,PASOS),activation='tanh'))\n",
        "    model.add(Flatten())\n",
        "    model.add(Dense(1, activation='tanh'))\n",
        "    model.compile(loss='mean_absolute_error',optimizer='Adam',metrics=[\"mse\"])\n",
        "    model.summary()\n",
        "    return model\n"
      ],
      "execution_count": null,
      "outputs": []
    },
    {
      "cell_type": "code",
      "metadata": {
        "id": "uFgwq5sSWjrD",
        "colab": {
          "base_uri": "https://localhost:8080/"
        },
        "outputId": "b710af9b-6a36-4675-cfcf-8753cc8d8e5e"
      },
      "source": [
        "EPOCHS=100\n",
        "\n",
        "model = crear_modeloFF()\n",
        "\n",
        "history=model.fit(x_train,y_train,epochs=EPOCHS,validation_data=(x_val,y_val),batch_size=PASOS)"
      ],
      "execution_count": null,
      "outputs": [
        {
          "output_type": "stream",
          "text": [
            "Model: \"sequential\"\n",
            "_________________________________________________________________\n",
            "Layer (type)                 Output Shape              Param #   \n",
            "=================================================================\n",
            "dense (Dense)                (None, 1, 12)             156       \n",
            "_________________________________________________________________\n",
            "flatten (Flatten)            (None, 12)                0         \n",
            "_________________________________________________________________\n",
            "dense_1 (Dense)              (None, 1)                 13        \n",
            "=================================================================\n",
            "Total params: 169\n",
            "Trainable params: 169\n",
            "Non-trainable params: 0\n",
            "_________________________________________________________________\n",
            "Epoch 1/100\n",
            "6/6 [==============================] - 14s 103ms/step - loss: 0.3256 - mse: 0.1463 - val_loss: 0.3436 - val_mse: 0.1778\n",
            "Epoch 2/100\n",
            "6/6 [==============================] - 0s 6ms/step - loss: 0.2967 - mse: 0.1226 - val_loss: 0.3162 - val_mse: 0.1600\n",
            "Epoch 3/100\n",
            "6/6 [==============================] - 0s 6ms/step - loss: 0.2576 - mse: 0.0987 - val_loss: 0.2959 - val_mse: 0.1470\n",
            "Epoch 4/100\n",
            "6/6 [==============================] - 0s 5ms/step - loss: 0.2417 - mse: 0.0970 - val_loss: 0.2870 - val_mse: 0.1380\n",
            "Epoch 5/100\n",
            "6/6 [==============================] - 0s 5ms/step - loss: 0.2233 - mse: 0.0913 - val_loss: 0.2790 - val_mse: 0.1317\n",
            "Epoch 6/100\n",
            "6/6 [==============================] - 0s 6ms/step - loss: 0.2442 - mse: 0.1119 - val_loss: 0.2712 - val_mse: 0.1246\n",
            "Epoch 7/100\n",
            "6/6 [==============================] - 0s 6ms/step - loss: 0.2312 - mse: 0.1026 - val_loss: 0.2648 - val_mse: 0.1186\n",
            "Epoch 8/100\n",
            "6/6 [==============================] - 0s 6ms/step - loss: 0.2337 - mse: 0.1048 - val_loss: 0.2564 - val_mse: 0.1120\n",
            "Epoch 9/100\n",
            "6/6 [==============================] - 0s 7ms/step - loss: 0.2262 - mse: 0.0948 - val_loss: 0.2453 - val_mse: 0.1054\n",
            "Epoch 10/100\n",
            "6/6 [==============================] - 0s 6ms/step - loss: 0.2230 - mse: 0.0848 - val_loss: 0.2349 - val_mse: 0.0997\n",
            "Epoch 11/100\n",
            "6/6 [==============================] - 0s 6ms/step - loss: 0.2279 - mse: 0.0904 - val_loss: 0.2272 - val_mse: 0.0946\n",
            "Epoch 12/100\n",
            "6/6 [==============================] - 0s 7ms/step - loss: 0.2284 - mse: 0.0916 - val_loss: 0.2205 - val_mse: 0.0901\n",
            "Epoch 13/100\n",
            "6/6 [==============================] - 0s 6ms/step - loss: 0.1914 - mse: 0.0595 - val_loss: 0.2142 - val_mse: 0.0863\n",
            "Epoch 14/100\n",
            "6/6 [==============================] - 0s 7ms/step - loss: 0.1777 - mse: 0.0601 - val_loss: 0.2086 - val_mse: 0.0822\n",
            "Epoch 15/100\n",
            "6/6 [==============================] - 0s 7ms/step - loss: 0.1613 - mse: 0.0487 - val_loss: 0.2012 - val_mse: 0.0788\n",
            "Epoch 16/100\n",
            "6/6 [==============================] - 0s 10ms/step - loss: 0.1856 - mse: 0.0617 - val_loss: 0.1924 - val_mse: 0.0765\n",
            "Epoch 17/100\n",
            "6/6 [==============================] - 0s 6ms/step - loss: 0.2021 - mse: 0.0654 - val_loss: 0.1873 - val_mse: 0.0749\n",
            "Epoch 18/100\n",
            "6/6 [==============================] - 0s 6ms/step - loss: 0.1655 - mse: 0.0433 - val_loss: 0.1872 - val_mse: 0.0733\n",
            "Epoch 19/100\n",
            "6/6 [==============================] - 0s 6ms/step - loss: 0.1691 - mse: 0.0480 - val_loss: 0.1859 - val_mse: 0.0698\n",
            "Epoch 20/100\n",
            "6/6 [==============================] - 0s 6ms/step - loss: 0.1764 - mse: 0.0533 - val_loss: 0.1857 - val_mse: 0.0661\n",
            "Epoch 21/100\n",
            "6/6 [==============================] - 0s 6ms/step - loss: 0.1459 - mse: 0.0393 - val_loss: 0.1846 - val_mse: 0.0641\n",
            "Epoch 22/100\n",
            "6/6 [==============================] - 0s 6ms/step - loss: 0.1523 - mse: 0.0416 - val_loss: 0.1830 - val_mse: 0.0636\n",
            "Epoch 23/100\n",
            "6/6 [==============================] - 0s 6ms/step - loss: 0.1430 - mse: 0.0342 - val_loss: 0.1824 - val_mse: 0.0615\n",
            "Epoch 24/100\n",
            "6/6 [==============================] - 0s 7ms/step - loss: 0.1458 - mse: 0.0334 - val_loss: 0.1821 - val_mse: 0.0600\n",
            "Epoch 25/100\n",
            "6/6 [==============================] - 0s 6ms/step - loss: 0.1369 - mse: 0.0332 - val_loss: 0.1803 - val_mse: 0.0590\n",
            "Epoch 26/100\n",
            "6/6 [==============================] - 0s 6ms/step - loss: 0.1440 - mse: 0.0366 - val_loss: 0.1786 - val_mse: 0.0584\n",
            "Epoch 27/100\n",
            "6/6 [==============================] - 0s 6ms/step - loss: 0.1421 - mse: 0.0344 - val_loss: 0.1773 - val_mse: 0.0579\n",
            "Epoch 28/100\n",
            "6/6 [==============================] - 0s 6ms/step - loss: 0.1474 - mse: 0.0374 - val_loss: 0.1757 - val_mse: 0.0584\n",
            "Epoch 29/100\n",
            "6/6 [==============================] - 0s 6ms/step - loss: 0.1465 - mse: 0.0399 - val_loss: 0.1749 - val_mse: 0.0560\n",
            "Epoch 30/100\n",
            "6/6 [==============================] - 0s 6ms/step - loss: 0.1326 - mse: 0.0310 - val_loss: 0.1732 - val_mse: 0.0553\n",
            "Epoch 31/100\n",
            "6/6 [==============================] - 0s 6ms/step - loss: 0.1134 - mse: 0.0236 - val_loss: 0.1710 - val_mse: 0.0550\n",
            "Epoch 32/100\n",
            "6/6 [==============================] - 0s 6ms/step - loss: 0.1164 - mse: 0.0230 - val_loss: 0.1686 - val_mse: 0.0524\n",
            "Epoch 33/100\n",
            "6/6 [==============================] - 0s 7ms/step - loss: 0.1304 - mse: 0.0334 - val_loss: 0.1664 - val_mse: 0.0517\n",
            "Epoch 34/100\n",
            "6/6 [==============================] - 0s 6ms/step - loss: 0.1241 - mse: 0.0277 - val_loss: 0.1645 - val_mse: 0.0504\n",
            "Epoch 35/100\n",
            "6/6 [==============================] - 0s 5ms/step - loss: 0.1270 - mse: 0.0309 - val_loss: 0.1630 - val_mse: 0.0498\n",
            "Epoch 36/100\n",
            "6/6 [==============================] - 0s 6ms/step - loss: 0.0958 - mse: 0.0171 - val_loss: 0.1613 - val_mse: 0.0483\n",
            "Epoch 37/100\n",
            "6/6 [==============================] - 0s 7ms/step - loss: 0.1113 - mse: 0.0233 - val_loss: 0.1591 - val_mse: 0.0455\n",
            "Epoch 38/100\n",
            "6/6 [==============================] - 0s 6ms/step - loss: 0.1090 - mse: 0.0223 - val_loss: 0.1585 - val_mse: 0.0437\n",
            "Epoch 39/100\n",
            "6/6 [==============================] - 0s 8ms/step - loss: 0.1038 - mse: 0.0198 - val_loss: 0.1570 - val_mse: 0.0448\n",
            "Epoch 40/100\n",
            "6/6 [==============================] - 0s 6ms/step - loss: 0.1057 - mse: 0.0213 - val_loss: 0.1569 - val_mse: 0.0451\n",
            "Epoch 41/100\n",
            "6/6 [==============================] - 0s 6ms/step - loss: 0.1108 - mse: 0.0231 - val_loss: 0.1565 - val_mse: 0.0435\n",
            "Epoch 42/100\n",
            "6/6 [==============================] - 0s 6ms/step - loss: 0.0974 - mse: 0.0172 - val_loss: 0.1559 - val_mse: 0.0431\n",
            "Epoch 43/100\n",
            "6/6 [==============================] - 0s 5ms/step - loss: 0.1034 - mse: 0.0202 - val_loss: 0.1548 - val_mse: 0.0424\n",
            "Epoch 44/100\n",
            "6/6 [==============================] - 0s 6ms/step - loss: 0.0896 - mse: 0.0148 - val_loss: 0.1529 - val_mse: 0.0413\n",
            "Epoch 45/100\n",
            "6/6 [==============================] - 0s 6ms/step - loss: 0.1010 - mse: 0.0178 - val_loss: 0.1511 - val_mse: 0.0389\n",
            "Epoch 46/100\n",
            "6/6 [==============================] - 0s 6ms/step - loss: 0.1080 - mse: 0.0206 - val_loss: 0.1495 - val_mse: 0.0384\n",
            "Epoch 47/100\n",
            "6/6 [==============================] - 0s 6ms/step - loss: 0.0849 - mse: 0.0135 - val_loss: 0.1476 - val_mse: 0.0377\n",
            "Epoch 48/100\n",
            "6/6 [==============================] - 0s 6ms/step - loss: 0.0801 - mse: 0.0116 - val_loss: 0.1464 - val_mse: 0.0371\n",
            "Epoch 49/100\n",
            "6/6 [==============================] - 0s 6ms/step - loss: 0.0841 - mse: 0.0133 - val_loss: 0.1459 - val_mse: 0.0372\n",
            "Epoch 50/100\n",
            "6/6 [==============================] - 0s 6ms/step - loss: 0.0882 - mse: 0.0134 - val_loss: 0.1468 - val_mse: 0.0372\n",
            "Epoch 51/100\n",
            "6/6 [==============================] - 0s 6ms/step - loss: 0.0916 - mse: 0.0150 - val_loss: 0.1470 - val_mse: 0.0365\n",
            "Epoch 52/100\n",
            "6/6 [==============================] - 0s 6ms/step - loss: 0.0912 - mse: 0.0161 - val_loss: 0.1462 - val_mse: 0.0383\n",
            "Epoch 53/100\n",
            "6/6 [==============================] - 0s 6ms/step - loss: 0.1014 - mse: 0.0173 - val_loss: 0.1457 - val_mse: 0.0380\n",
            "Epoch 54/100\n",
            "6/6 [==============================] - 0s 8ms/step - loss: 0.0900 - mse: 0.0149 - val_loss: 0.1460 - val_mse: 0.0365\n",
            "Epoch 55/100\n",
            "6/6 [==============================] - 0s 6ms/step - loss: 0.0862 - mse: 0.0134 - val_loss: 0.1453 - val_mse: 0.0354\n",
            "Epoch 56/100\n",
            "6/6 [==============================] - 0s 7ms/step - loss: 0.0930 - mse: 0.0157 - val_loss: 0.1450 - val_mse: 0.0361\n",
            "Epoch 57/100\n",
            "6/6 [==============================] - 0s 7ms/step - loss: 0.0980 - mse: 0.0176 - val_loss: 0.1460 - val_mse: 0.0366\n",
            "Epoch 58/100\n",
            "6/6 [==============================] - 0s 6ms/step - loss: 0.0959 - mse: 0.0166 - val_loss: 0.1479 - val_mse: 0.0368\n",
            "Epoch 59/100\n",
            "6/6 [==============================] - 0s 6ms/step - loss: 0.0857 - mse: 0.0133 - val_loss: 0.1486 - val_mse: 0.0362\n",
            "Epoch 60/100\n",
            "6/6 [==============================] - 0s 6ms/step - loss: 0.0904 - mse: 0.0153 - val_loss: 0.1482 - val_mse: 0.0368\n",
            "Epoch 61/100\n",
            "6/6 [==============================] - 0s 6ms/step - loss: 0.0907 - mse: 0.0148 - val_loss: 0.1481 - val_mse: 0.0367\n",
            "Epoch 62/100\n",
            "6/6 [==============================] - 0s 6ms/step - loss: 0.0872 - mse: 0.0132 - val_loss: 0.1484 - val_mse: 0.0346\n",
            "Epoch 63/100\n",
            "6/6 [==============================] - 0s 6ms/step - loss: 0.0861 - mse: 0.0143 - val_loss: 0.1473 - val_mse: 0.0364\n",
            "Epoch 64/100\n",
            "6/6 [==============================] - 0s 6ms/step - loss: 0.0849 - mse: 0.0137 - val_loss: 0.1471 - val_mse: 0.0379\n",
            "Epoch 65/100\n",
            "6/6 [==============================] - 0s 7ms/step - loss: 0.0766 - mse: 0.0114 - val_loss: 0.1474 - val_mse: 0.0341\n",
            "Epoch 66/100\n",
            "6/6 [==============================] - 0s 6ms/step - loss: 0.0828 - mse: 0.0115 - val_loss: 0.1481 - val_mse: 0.0331\n",
            "Epoch 67/100\n",
            "6/6 [==============================] - 0s 6ms/step - loss: 0.0819 - mse: 0.0116 - val_loss: 0.1468 - val_mse: 0.0336\n",
            "Epoch 68/100\n",
            "6/6 [==============================] - 0s 6ms/step - loss: 0.0882 - mse: 0.0136 - val_loss: 0.1451 - val_mse: 0.0336\n",
            "Epoch 69/100\n",
            "6/6 [==============================] - 0s 6ms/step - loss: 0.0872 - mse: 0.0138 - val_loss: 0.1442 - val_mse: 0.0349\n",
            "Epoch 70/100\n",
            "6/6 [==============================] - 0s 7ms/step - loss: 0.0758 - mse: 0.0112 - val_loss: 0.1450 - val_mse: 0.0343\n",
            "Epoch 71/100\n",
            "6/6 [==============================] - 0s 8ms/step - loss: 0.0843 - mse: 0.0127 - val_loss: 0.1459 - val_mse: 0.0333\n",
            "Epoch 72/100\n",
            "6/6 [==============================] - 0s 13ms/step - loss: 0.0802 - mse: 0.0136 - val_loss: 0.1476 - val_mse: 0.0362\n",
            "Epoch 73/100\n",
            "6/6 [==============================] - 0s 7ms/step - loss: 0.0964 - mse: 0.0176 - val_loss: 0.1479 - val_mse: 0.0348\n",
            "Epoch 74/100\n",
            "6/6 [==============================] - 0s 12ms/step - loss: 0.0872 - mse: 0.0144 - val_loss: 0.1480 - val_mse: 0.0341\n",
            "Epoch 75/100\n",
            "6/6 [==============================] - 0s 7ms/step - loss: 0.0831 - mse: 0.0123 - val_loss: 0.1498 - val_mse: 0.0359\n",
            "Epoch 76/100\n",
            "6/6 [==============================] - 0s 7ms/step - loss: 0.0922 - mse: 0.0154 - val_loss: 0.1511 - val_mse: 0.0365\n",
            "Epoch 77/100\n",
            "6/6 [==============================] - 0s 8ms/step - loss: 0.0766 - mse: 0.0109 - val_loss: 0.1510 - val_mse: 0.0351\n",
            "Epoch 78/100\n",
            "6/6 [==============================] - 0s 7ms/step - loss: 0.0880 - mse: 0.0142 - val_loss: 0.1494 - val_mse: 0.0337\n",
            "Epoch 79/100\n",
            "6/6 [==============================] - 0s 7ms/step - loss: 0.0834 - mse: 0.0128 - val_loss: 0.1471 - val_mse: 0.0333\n",
            "Epoch 80/100\n",
            "6/6 [==============================] - 0s 7ms/step - loss: 0.0844 - mse: 0.0122 - val_loss: 0.1473 - val_mse: 0.0348\n",
            "Epoch 81/100\n",
            "6/6 [==============================] - 0s 7ms/step - loss: 0.0802 - mse: 0.0126 - val_loss: 0.1476 - val_mse: 0.0347\n",
            "Epoch 82/100\n",
            "6/6 [==============================] - 0s 6ms/step - loss: 0.0784 - mse: 0.0111 - val_loss: 0.1490 - val_mse: 0.0358\n",
            "Epoch 83/100\n",
            "6/6 [==============================] - 0s 7ms/step - loss: 0.0786 - mse: 0.0113 - val_loss: 0.1513 - val_mse: 0.0361\n",
            "Epoch 84/100\n",
            "6/6 [==============================] - 0s 6ms/step - loss: 0.0755 - mse: 0.0118 - val_loss: 0.1527 - val_mse: 0.0359\n",
            "Epoch 85/100\n",
            "6/6 [==============================] - 0s 8ms/step - loss: 0.0758 - mse: 0.0112 - val_loss: 0.1540 - val_mse: 0.0363\n",
            "Epoch 86/100\n",
            "6/6 [==============================] - 0s 6ms/step - loss: 0.0806 - mse: 0.0121 - val_loss: 0.1543 - val_mse: 0.0364\n",
            "Epoch 87/100\n",
            "6/6 [==============================] - 0s 6ms/step - loss: 0.0830 - mse: 0.0124 - val_loss: 0.1537 - val_mse: 0.0362\n",
            "Epoch 88/100\n",
            "6/6 [==============================] - 0s 7ms/step - loss: 0.0897 - mse: 0.0142 - val_loss: 0.1532 - val_mse: 0.0358\n",
            "Epoch 89/100\n",
            "6/6 [==============================] - 0s 6ms/step - loss: 0.0752 - mse: 0.0106 - val_loss: 0.1525 - val_mse: 0.0368\n",
            "Epoch 90/100\n",
            "6/6 [==============================] - 0s 10ms/step - loss: 0.0858 - mse: 0.0133 - val_loss: 0.1518 - val_mse: 0.0359\n",
            "Epoch 91/100\n",
            "6/6 [==============================] - 0s 9ms/step - loss: 0.0765 - mse: 0.0111 - val_loss: 0.1501 - val_mse: 0.0335\n",
            "Epoch 92/100\n",
            "6/6 [==============================] - 0s 7ms/step - loss: 0.0797 - mse: 0.0116 - val_loss: 0.1506 - val_mse: 0.0347\n",
            "Epoch 93/100\n",
            "6/6 [==============================] - 0s 6ms/step - loss: 0.0723 - mse: 0.0098 - val_loss: 0.1516 - val_mse: 0.0368\n",
            "Epoch 94/100\n",
            "6/6 [==============================] - 0s 6ms/step - loss: 0.0823 - mse: 0.0119 - val_loss: 0.1515 - val_mse: 0.0361\n",
            "Epoch 95/100\n",
            "6/6 [==============================] - 0s 6ms/step - loss: 0.0804 - mse: 0.0114 - val_loss: 0.1492 - val_mse: 0.0331\n",
            "Epoch 96/100\n",
            "6/6 [==============================] - 0s 6ms/step - loss: 0.0873 - mse: 0.0124 - val_loss: 0.1477 - val_mse: 0.0330\n",
            "Epoch 97/100\n",
            "6/6 [==============================] - 0s 8ms/step - loss: 0.0820 - mse: 0.0112 - val_loss: 0.1476 - val_mse: 0.0342\n",
            "Epoch 98/100\n",
            "6/6 [==============================] - 0s 7ms/step - loss: 0.0826 - mse: 0.0121 - val_loss: 0.1477 - val_mse: 0.0338\n",
            "Epoch 99/100\n",
            "6/6 [==============================] - 0s 7ms/step - loss: 0.0868 - mse: 0.0136 - val_loss: 0.1455 - val_mse: 0.0316\n",
            "Epoch 100/100\n",
            "6/6 [==============================] - 0s 7ms/step - loss: 0.0904 - mse: 0.0145 - val_loss: 0.1447 - val_mse: 0.0326\n"
          ],
          "name": "stdout"
        }
      ]
    },
    {
      "cell_type": "code",
      "metadata": {
        "id": "F4jcSaz_Wjvc",
        "colab": {
          "base_uri": "https://localhost:8080/",
          "height": 299
        },
        "outputId": "4867719b-860c-489e-b3f5-f140a06750e4"
      },
      "source": [
        "results = model.predict(x_val)\n",
        "plt.plot(range(len(y_val)),y_val,c='g',label='real',ls='--')\n",
        "plt.plot(range(len(results)),results,c='r',label='modelo')\n",
        "plt.title('validate')\n",
        "plt.legend(loc='best')"
      ],
      "execution_count": null,
      "outputs": [
        {
          "output_type": "execute_result",
          "data": {
            "text/plain": [
              "<matplotlib.legend.Legend at 0x7faee9b55290>"
            ]
          },
          "metadata": {
            "tags": []
          },
          "execution_count": 34
        },
        {
          "output_type": "display_data",
          "data": {
            "image/png": "[encoded data removed]",
            "text/plain": [
              "<Figure size 432x288 with 1 Axes>"
            ]
          },
          "metadata": {
            "tags": [],
            "needs_background": "light"
          }
        }
      ]
    },
    {
      "cell_type": "code",
      "metadata": {
        "id": "fRRAD7WKXbLi",
        "colab": {
          "base_uri": "https://localhost:8080/",
          "height": 237
        },
        "outputId": "8d7c031b-e448-4a52-c99b-0befc22e4138"
      },
      "source": [
        "df.tail()"
      ],
      "execution_count": null,
      "outputs": [
        {
          "output_type": "execute_result",
          "data": {
            "text/html": [
              "<div>\n",
              "<style scoped>\n",
              "    .dataframe tbody tr th:only-of-type {\n",
              "        vertical-align: middle;\n",
              "    }\n",
              "\n",
              "    .dataframe tbody tr th {\n",
              "        vertical-align: top;\n",
              "    }\n",
              "\n",
              "    .dataframe thead th {\n",
              "        text-align: right;\n",
              "    }\n",
              "</style>\n",
              "<table border=\"1\" class=\"dataframe\">\n",
              "  <thead>\n",
              "    <tr style=\"text-align: right;\">\n",
              "      <th></th>\n",
              "      <th>demand</th>\n",
              "    </tr>\n",
              "    <tr>\n",
              "      <th>timestamp</th>\n",
              "      <th></th>\n",
              "    </tr>\n",
              "  </thead>\n",
              "  <tbody>\n",
              "    <tr>\n",
              "      <th>1972-05-01</th>\n",
              "      <td>4618</td>\n",
              "    </tr>\n",
              "    <tr>\n",
              "      <th>1972-06-01</th>\n",
              "      <td>5312</td>\n",
              "    </tr>\n",
              "    <tr>\n",
              "      <th>1972-07-01</th>\n",
              "      <td>4298</td>\n",
              "    </tr>\n",
              "    <tr>\n",
              "      <th>1972-08-01</th>\n",
              "      <td>1413</td>\n",
              "    </tr>\n",
              "    <tr>\n",
              "      <th>1972-09-01</th>\n",
              "      <td>5877</td>\n",
              "    </tr>\n",
              "  </tbody>\n",
              "</table>\n",
              "</div>"
            ],
            "text/plain": [
              "            demand\n",
              "timestamp         \n",
              "1972-05-01    4618\n",
              "1972-06-01    5312\n",
              "1972-07-01    4298\n",
              "1972-08-01    1413\n",
              "1972-09-01    5877"
            ]
          },
          "metadata": {
            "tags": []
          },
          "execution_count": 35
        }
      ]
    },
    {
      "cell_type": "code",
      "metadata": {
        "id": "uu7zg0UxWj3L",
        "colab": {
          "base_uri": "https://localhost:8080/",
          "height": 833
        },
        "outputId": "68800475-6064-40eb-8872-5bd4e67d4cc3"
      },
      "source": [
        "# con esta data calcularemos los próximos 7 datos futuros\n",
        "\n",
        "ultimosDias = df['1970-10-01':'1972-09-01']\n",
        "ultimosDias"
      ],
      "execution_count": null,
      "outputs": [
        {
          "output_type": "execute_result",
          "data": {
            "text/html": [
              "<div>\n",
              "<style scoped>\n",
              "    .dataframe tbody tr th:only-of-type {\n",
              "        vertical-align: middle;\n",
              "    }\n",
              "\n",
              "    .dataframe tbody tr th {\n",
              "        vertical-align: top;\n",
              "    }\n",
              "\n",
              "    .dataframe thead th {\n",
              "        text-align: right;\n",
              "    }\n",
              "</style>\n",
              "<table border=\"1\" class=\"dataframe\">\n",
              "  <thead>\n",
              "    <tr style=\"text-align: right;\">\n",
              "      <th></th>\n",
              "      <th>demand</th>\n",
              "    </tr>\n",
              "    <tr>\n",
              "      <th>timestamp</th>\n",
              "      <th></th>\n",
              "    </tr>\n",
              "  </thead>\n",
              "  <tbody>\n",
              "    <tr>\n",
              "      <th>1970-10-01</th>\n",
              "      <td>6424</td>\n",
              "    </tr>\n",
              "    <tr>\n",
              "      <th>1970-11-01</th>\n",
              "      <td>9842</td>\n",
              "    </tr>\n",
              "    <tr>\n",
              "      <th>1970-12-01</th>\n",
              "      <td>13076</td>\n",
              "    </tr>\n",
              "    <tr>\n",
              "      <th>1971-01-01</th>\n",
              "      <td>3934</td>\n",
              "    </tr>\n",
              "    <tr>\n",
              "      <th>1971-02-01</th>\n",
              "      <td>3162</td>\n",
              "    </tr>\n",
              "    <tr>\n",
              "      <th>1971-03-01</th>\n",
              "      <td>4286</td>\n",
              "    </tr>\n",
              "    <tr>\n",
              "      <th>1971-04-01</th>\n",
              "      <td>4676</td>\n",
              "    </tr>\n",
              "    <tr>\n",
              "      <th>1971-05-01</th>\n",
              "      <td>5010</td>\n",
              "    </tr>\n",
              "    <tr>\n",
              "      <th>1971-06-01</th>\n",
              "      <td>4874</td>\n",
              "    </tr>\n",
              "    <tr>\n",
              "      <th>1971-07-01</th>\n",
              "      <td>4633</td>\n",
              "    </tr>\n",
              "    <tr>\n",
              "      <th>1971-08-01</th>\n",
              "      <td>1659</td>\n",
              "    </tr>\n",
              "    <tr>\n",
              "      <th>1971-09-01</th>\n",
              "      <td>5951</td>\n",
              "    </tr>\n",
              "    <tr>\n",
              "      <th>1971-10-01</th>\n",
              "      <td>6981</td>\n",
              "    </tr>\n",
              "    <tr>\n",
              "      <th>1971-11-01</th>\n",
              "      <td>9851</td>\n",
              "    </tr>\n",
              "    <tr>\n",
              "      <th>1971-12-01</th>\n",
              "      <td>12670</td>\n",
              "    </tr>\n",
              "    <tr>\n",
              "      <th>1972-01-01</th>\n",
              "      <td>4348</td>\n",
              "    </tr>\n",
              "    <tr>\n",
              "      <th>1972-02-01</th>\n",
              "      <td>3564</td>\n",
              "    </tr>\n",
              "    <tr>\n",
              "      <th>1972-03-01</th>\n",
              "      <td>4577</td>\n",
              "    </tr>\n",
              "    <tr>\n",
              "      <th>1972-04-01</th>\n",
              "      <td>4788</td>\n",
              "    </tr>\n",
              "    <tr>\n",
              "      <th>1972-05-01</th>\n",
              "      <td>4618</td>\n",
              "    </tr>\n",
              "    <tr>\n",
              "      <th>1972-06-01</th>\n",
              "      <td>5312</td>\n",
              "    </tr>\n",
              "    <tr>\n",
              "      <th>1972-07-01</th>\n",
              "      <td>4298</td>\n",
              "    </tr>\n",
              "    <tr>\n",
              "      <th>1972-08-01</th>\n",
              "      <td>1413</td>\n",
              "    </tr>\n",
              "    <tr>\n",
              "      <th>1972-09-01</th>\n",
              "      <td>5877</td>\n",
              "    </tr>\n",
              "  </tbody>\n",
              "</table>\n",
              "</div>"
            ],
            "text/plain": [
              "            demand\n",
              "timestamp         \n",
              "1970-10-01    6424\n",
              "1970-11-01    9842\n",
              "1970-12-01   13076\n",
              "1971-01-01    3934\n",
              "1971-02-01    3162\n",
              "1971-03-01    4286\n",
              "1971-04-01    4676\n",
              "1971-05-01    5010\n",
              "1971-06-01    4874\n",
              "1971-07-01    4633\n",
              "1971-08-01    1659\n",
              "1971-09-01    5951\n",
              "1971-10-01    6981\n",
              "1971-11-01    9851\n",
              "1971-12-01   12670\n",
              "1972-01-01    4348\n",
              "1972-02-01    3564\n",
              "1972-03-01    4577\n",
              "1972-04-01    4788\n",
              "1972-05-01    4618\n",
              "1972-06-01    5312\n",
              "1972-07-01    4298\n",
              "1972-08-01    1413\n",
              "1972-09-01    5877"
            ]
          },
          "metadata": {
            "tags": []
          },
          "execution_count": 36
        }
      ]
    },
    {
      "cell_type": "code",
      "metadata": {
        "id": "RgEbGBB-nQYz",
        "colab": {
          "base_uri": "https://localhost:8080/"
        },
        "outputId": "e2e72c5c-8d17-475d-e973-77da12f68ff1"
      },
      "source": [
        "ultimosDias.shape"
      ],
      "execution_count": null,
      "outputs": [
        {
          "output_type": "execute_result",
          "data": {
            "text/plain": [
              "(24, 1)"
            ]
          },
          "metadata": {
            "tags": []
          },
          "execution_count": 37
        }
      ]
    },
    {
      "cell_type": "code",
      "metadata": {
        "id": "YwTIzT7qXKDc",
        "colab": {
          "base_uri": "https://localhost:8080/",
          "height": 425
        },
        "outputId": "a0f554e1-abe0-4186-ac0b-7a6c92048c69"
      },
      "source": [
        "# elimino la columna 12 porque deseo predecirla\n",
        "\n",
        "values = ultimosDias.values\n",
        "values = values.astype('float32')\n",
        "# normalize features\n",
        "values=values.reshape(-1, 1) # esto lo hacemos porque tenemos 1 sola dimension\n",
        "scaled = values\n",
        "reframed = series_to_supervised(scaled, PASOS, 1)\n",
        "reframed.drop(reframed.columns[[12]], axis=1, inplace=True)\n",
        "reframed # modificar acorde al numero de predictores"
      ],
      "execution_count": null,
      "outputs": [
        {
          "output_type": "execute_result",
          "data": {
            "text/html": [
              "<div>\n",
              "<style scoped>\n",
              "    .dataframe tbody tr th:only-of-type {\n",
              "        vertical-align: middle;\n",
              "    }\n",
              "\n",
              "    .dataframe tbody tr th {\n",
              "        vertical-align: top;\n",
              "    }\n",
              "\n",
              "    .dataframe thead th {\n",
              "        text-align: right;\n",
              "    }\n",
              "</style>\n",
              "<table border=\"1\" class=\"dataframe\">\n",
              "  <thead>\n",
              "    <tr style=\"text-align: right;\">\n",
              "      <th></th>\n",
              "      <th>var1(t-12)</th>\n",
              "      <th>var1(t-11)</th>\n",
              "      <th>var1(t-10)</th>\n",
              "      <th>var1(t-9)</th>\n",
              "      <th>var1(t-8)</th>\n",
              "      <th>var1(t-7)</th>\n",
              "      <th>var1(t-6)</th>\n",
              "      <th>var1(t-5)</th>\n",
              "      <th>var1(t-4)</th>\n",
              "      <th>var1(t-3)</th>\n",
              "      <th>var1(t-2)</th>\n",
              "      <th>var1(t-1)</th>\n",
              "    </tr>\n",
              "  </thead>\n",
              "  <tbody>\n",
              "    <tr>\n",
              "      <th>12</th>\n",
              "      <td>6424.0</td>\n",
              "      <td>9842.0</td>\n",
              "      <td>13076.0</td>\n",
              "      <td>3934.0</td>\n",
              "      <td>3162.0</td>\n",
              "      <td>4286.0</td>\n",
              "      <td>4676.0</td>\n",
              "      <td>5010.0</td>\n",
              "      <td>4874.0</td>\n",
              "      <td>4633.0</td>\n",
              "      <td>1659.0</td>\n",
              "      <td>5951.0</td>\n",
              "    </tr>\n",
              "    <tr>\n",
              "      <th>13</th>\n",
              "      <td>9842.0</td>\n",
              "      <td>13076.0</td>\n",
              "      <td>3934.0</td>\n",
              "      <td>3162.0</td>\n",
              "      <td>4286.0</td>\n",
              "      <td>4676.0</td>\n",
              "      <td>5010.0</td>\n",
              "      <td>4874.0</td>\n",
              "      <td>4633.0</td>\n",
              "      <td>1659.0</td>\n",
              "      <td>5951.0</td>\n",
              "      <td>6981.0</td>\n",
              "    </tr>\n",
              "    <tr>\n",
              "      <th>14</th>\n",
              "      <td>13076.0</td>\n",
              "      <td>3934.0</td>\n",
              "      <td>3162.0</td>\n",
              "      <td>4286.0</td>\n",
              "      <td>4676.0</td>\n",
              "      <td>5010.0</td>\n",
              "      <td>4874.0</td>\n",
              "      <td>4633.0</td>\n",
              "      <td>1659.0</td>\n",
              "      <td>5951.0</td>\n",
              "      <td>6981.0</td>\n",
              "      <td>9851.0</td>\n",
              "    </tr>\n",
              "    <tr>\n",
              "      <th>15</th>\n",
              "      <td>3934.0</td>\n",
              "      <td>3162.0</td>\n",
              "      <td>4286.0</td>\n",
              "      <td>4676.0</td>\n",
              "      <td>5010.0</td>\n",
              "      <td>4874.0</td>\n",
              "      <td>4633.0</td>\n",
              "      <td>1659.0</td>\n",
              "      <td>5951.0</td>\n",
              "      <td>6981.0</td>\n",
              "      <td>9851.0</td>\n",
              "      <td>12670.0</td>\n",
              "    </tr>\n",
              "    <tr>\n",
              "      <th>16</th>\n",
              "      <td>3162.0</td>\n",
              "      <td>4286.0</td>\n",
              "      <td>4676.0</td>\n",
              "      <td>5010.0</td>\n",
              "      <td>4874.0</td>\n",
              "      <td>4633.0</td>\n",
              "      <td>1659.0</td>\n",
              "      <td>5951.0</td>\n",
              "      <td>6981.0</td>\n",
              "      <td>9851.0</td>\n",
              "      <td>12670.0</td>\n",
              "      <td>4348.0</td>\n",
              "    </tr>\n",
              "    <tr>\n",
              "      <th>17</th>\n",
              "      <td>4286.0</td>\n",
              "      <td>4676.0</td>\n",
              "      <td>5010.0</td>\n",
              "      <td>4874.0</td>\n",
              "      <td>4633.0</td>\n",
              "      <td>1659.0</td>\n",
              "      <td>5951.0</td>\n",
              "      <td>6981.0</td>\n",
              "      <td>9851.0</td>\n",
              "      <td>12670.0</td>\n",
              "      <td>4348.0</td>\n",
              "      <td>3564.0</td>\n",
              "    </tr>\n",
              "    <tr>\n",
              "      <th>18</th>\n",
              "      <td>4676.0</td>\n",
              "      <td>5010.0</td>\n",
              "      <td>4874.0</td>\n",
              "      <td>4633.0</td>\n",
              "      <td>1659.0</td>\n",
              "      <td>5951.0</td>\n",
              "      <td>6981.0</td>\n",
              "      <td>9851.0</td>\n",
              "      <td>12670.0</td>\n",
              "      <td>4348.0</td>\n",
              "      <td>3564.0</td>\n",
              "      <td>4577.0</td>\n",
              "    </tr>\n",
              "    <tr>\n",
              "      <th>19</th>\n",
              "      <td>5010.0</td>\n",
              "      <td>4874.0</td>\n",
              "      <td>4633.0</td>\n",
              "      <td>1659.0</td>\n",
              "      <td>5951.0</td>\n",
              "      <td>6981.0</td>\n",
              "      <td>9851.0</td>\n",
              "      <td>12670.0</td>\n",
              "      <td>4348.0</td>\n",
              "      <td>3564.0</td>\n",
              "      <td>4577.0</td>\n",
              "      <td>4788.0</td>\n",
              "    </tr>\n",
              "    <tr>\n",
              "      <th>20</th>\n",
              "      <td>4874.0</td>\n",
              "      <td>4633.0</td>\n",
              "      <td>1659.0</td>\n",
              "      <td>5951.0</td>\n",
              "      <td>6981.0</td>\n",
              "      <td>9851.0</td>\n",
              "      <td>12670.0</td>\n",
              "      <td>4348.0</td>\n",
              "      <td>3564.0</td>\n",
              "      <td>4577.0</td>\n",
              "      <td>4788.0</td>\n",
              "      <td>4618.0</td>\n",
              "    </tr>\n",
              "    <tr>\n",
              "      <th>21</th>\n",
              "      <td>4633.0</td>\n",
              "      <td>1659.0</td>\n",
              "      <td>5951.0</td>\n",
              "      <td>6981.0</td>\n",
              "      <td>9851.0</td>\n",
              "      <td>12670.0</td>\n",
              "      <td>4348.0</td>\n",
              "      <td>3564.0</td>\n",
              "      <td>4577.0</td>\n",
              "      <td>4788.0</td>\n",
              "      <td>4618.0</td>\n",
              "      <td>5312.0</td>\n",
              "    </tr>\n",
              "    <tr>\n",
              "      <th>22</th>\n",
              "      <td>1659.0</td>\n",
              "      <td>5951.0</td>\n",
              "      <td>6981.0</td>\n",
              "      <td>9851.0</td>\n",
              "      <td>12670.0</td>\n",
              "      <td>4348.0</td>\n",
              "      <td>3564.0</td>\n",
              "      <td>4577.0</td>\n",
              "      <td>4788.0</td>\n",
              "      <td>4618.0</td>\n",
              "      <td>5312.0</td>\n",
              "      <td>4298.0</td>\n",
              "    </tr>\n",
              "    <tr>\n",
              "      <th>23</th>\n",
              "      <td>5951.0</td>\n",
              "      <td>6981.0</td>\n",
              "      <td>9851.0</td>\n",
              "      <td>12670.0</td>\n",
              "      <td>4348.0</td>\n",
              "      <td>3564.0</td>\n",
              "      <td>4577.0</td>\n",
              "      <td>4788.0</td>\n",
              "      <td>4618.0</td>\n",
              "      <td>5312.0</td>\n",
              "      <td>4298.0</td>\n",
              "      <td>1413.0</td>\n",
              "    </tr>\n",
              "  </tbody>\n",
              "</table>\n",
              "</div>"
            ],
            "text/plain": [
              "    var1(t-12)  var1(t-11)  var1(t-10)  ...  var1(t-3)  var1(t-2)  var1(t-1)\n",
              "12      6424.0      9842.0     13076.0  ...     4633.0     1659.0     5951.0\n",
              "13      9842.0     13076.0      3934.0  ...     1659.0     5951.0     6981.0\n",
              "14     13076.0      3934.0      3162.0  ...     5951.0     6981.0     9851.0\n",
              "15      3934.0      3162.0      4286.0  ...     6981.0     9851.0    12670.0\n",
              "16      3162.0      4286.0      4676.0  ...     9851.0    12670.0     4348.0\n",
              "17      4286.0      4676.0      5010.0  ...    12670.0     4348.0     3564.0\n",
              "18      4676.0      5010.0      4874.0  ...     4348.0     3564.0     4577.0\n",
              "19      5010.0      4874.0      4633.0  ...     3564.0     4577.0     4788.0\n",
              "20      4874.0      4633.0      1659.0  ...     4577.0     4788.0     4618.0\n",
              "21      4633.0      1659.0      5951.0  ...     4788.0     4618.0     5312.0\n",
              "22      1659.0      5951.0      6981.0  ...     4618.0     5312.0     4298.0\n",
              "23      5951.0      6981.0      9851.0  ...     5312.0     4298.0     1413.0\n",
              "\n",
              "[12 rows x 12 columns]"
            ]
          },
          "metadata": {
            "tags": []
          },
          "execution_count": 38
        }
      ]
    },
    {
      "cell_type": "code",
      "metadata": {
        "id": "P_XFmsEZljm-",
        "colab": {
          "base_uri": "https://localhost:8080/",
          "height": 425
        },
        "outputId": "997ea7a3-f638-47e3-a93c-9ab767d9fb23"
      },
      "source": [
        "# elimino la columna 12 porque deseo predecirla\n",
        "\n",
        "values = ultimosDias.values\n",
        "values = values.astype('float32')\n",
        "# normalize features\n",
        "values=values.reshape(-1, 1) # esto lo hacemos porque tenemos 1 sola dimension\n",
        "scaled = scaler.fit_transform(values)\n",
        "reframed = series_to_supervised(scaled, PASOS, 1)\n",
        "reframed.drop(reframed.columns[[12]], axis=1, inplace=True)\n",
        "reframed.head(12) # modificar acorde al numero de predictores"
      ],
      "execution_count": null,
      "outputs": [
        {
          "output_type": "execute_result",
          "data": {
            "text/html": [
              "<div>\n",
              "<style scoped>\n",
              "    .dataframe tbody tr th:only-of-type {\n",
              "        vertical-align: middle;\n",
              "    }\n",
              "\n",
              "    .dataframe tbody tr th {\n",
              "        vertical-align: top;\n",
              "    }\n",
              "\n",
              "    .dataframe thead th {\n",
              "        text-align: right;\n",
              "    }\n",
              "</style>\n",
              "<table border=\"1\" class=\"dataframe\">\n",
              "  <thead>\n",
              "    <tr style=\"text-align: right;\">\n",
              "      <th></th>\n",
              "      <th>var1(t-12)</th>\n",
              "      <th>var1(t-11)</th>\n",
              "      <th>var1(t-10)</th>\n",
              "      <th>var1(t-9)</th>\n",
              "      <th>var1(t-8)</th>\n",
              "      <th>var1(t-7)</th>\n",
              "      <th>var1(t-6)</th>\n",
              "      <th>var1(t-5)</th>\n",
              "      <th>var1(t-4)</th>\n",
              "      <th>var1(t-3)</th>\n",
              "      <th>var1(t-2)</th>\n",
              "      <th>var1(t-1)</th>\n",
              "    </tr>\n",
              "  </thead>\n",
              "  <tbody>\n",
              "    <tr>\n",
              "      <th>12</th>\n",
              "      <td>-0.140701</td>\n",
              "      <td>0.445426</td>\n",
              "      <td>1.000000</td>\n",
              "      <td>-0.567693</td>\n",
              "      <td>-0.700077</td>\n",
              "      <td>-0.507331</td>\n",
              "      <td>-0.440453</td>\n",
              "      <td>-0.383178</td>\n",
              "      <td>-0.406499</td>\n",
              "      <td>-0.447826</td>\n",
              "      <td>-0.957815</td>\n",
              "      <td>-0.221813</td>\n",
              "    </tr>\n",
              "    <tr>\n",
              "      <th>13</th>\n",
              "      <td>0.445426</td>\n",
              "      <td>1.000000</td>\n",
              "      <td>-0.567693</td>\n",
              "      <td>-0.700077</td>\n",
              "      <td>-0.507331</td>\n",
              "      <td>-0.440453</td>\n",
              "      <td>-0.383178</td>\n",
              "      <td>-0.406499</td>\n",
              "      <td>-0.447826</td>\n",
              "      <td>-0.957815</td>\n",
              "      <td>-0.221813</td>\n",
              "      <td>-0.045186</td>\n",
              "    </tr>\n",
              "    <tr>\n",
              "      <th>14</th>\n",
              "      <td>1.000000</td>\n",
              "      <td>-0.567693</td>\n",
              "      <td>-0.700077</td>\n",
              "      <td>-0.507331</td>\n",
              "      <td>-0.440453</td>\n",
              "      <td>-0.383178</td>\n",
              "      <td>-0.406499</td>\n",
              "      <td>-0.447826</td>\n",
              "      <td>-0.957815</td>\n",
              "      <td>-0.221813</td>\n",
              "      <td>-0.045186</td>\n",
              "      <td>0.446969</td>\n",
              "    </tr>\n",
              "    <tr>\n",
              "      <th>15</th>\n",
              "      <td>-0.567693</td>\n",
              "      <td>-0.700077</td>\n",
              "      <td>-0.507331</td>\n",
              "      <td>-0.440453</td>\n",
              "      <td>-0.383178</td>\n",
              "      <td>-0.406499</td>\n",
              "      <td>-0.447826</td>\n",
              "      <td>-0.957815</td>\n",
              "      <td>-0.221813</td>\n",
              "      <td>-0.045186</td>\n",
              "      <td>0.446969</td>\n",
              "      <td>0.930378</td>\n",
              "    </tr>\n",
              "    <tr>\n",
              "      <th>16</th>\n",
              "      <td>-0.700077</td>\n",
              "      <td>-0.507331</td>\n",
              "      <td>-0.440453</td>\n",
              "      <td>-0.383178</td>\n",
              "      <td>-0.406499</td>\n",
              "      <td>-0.447826</td>\n",
              "      <td>-0.957815</td>\n",
              "      <td>-0.221813</td>\n",
              "      <td>-0.045186</td>\n",
              "      <td>0.446969</td>\n",
              "      <td>0.930378</td>\n",
              "      <td>-0.496699</td>\n",
              "    </tr>\n",
              "    <tr>\n",
              "      <th>17</th>\n",
              "      <td>-0.507331</td>\n",
              "      <td>-0.440453</td>\n",
              "      <td>-0.383178</td>\n",
              "      <td>-0.406499</td>\n",
              "      <td>-0.447826</td>\n",
              "      <td>-0.957815</td>\n",
              "      <td>-0.221813</td>\n",
              "      <td>-0.045186</td>\n",
              "      <td>0.446969</td>\n",
              "      <td>0.930378</td>\n",
              "      <td>-0.496699</td>\n",
              "      <td>-0.631141</td>\n",
              "    </tr>\n",
              "    <tr>\n",
              "      <th>18</th>\n",
              "      <td>-0.440453</td>\n",
              "      <td>-0.383178</td>\n",
              "      <td>-0.406499</td>\n",
              "      <td>-0.447826</td>\n",
              "      <td>-0.957815</td>\n",
              "      <td>-0.221813</td>\n",
              "      <td>-0.045186</td>\n",
              "      <td>0.446969</td>\n",
              "      <td>0.930378</td>\n",
              "      <td>-0.496699</td>\n",
              "      <td>-0.631141</td>\n",
              "      <td>-0.457429</td>\n",
              "    </tr>\n",
              "    <tr>\n",
              "      <th>19</th>\n",
              "      <td>-0.383178</td>\n",
              "      <td>-0.406499</td>\n",
              "      <td>-0.447826</td>\n",
              "      <td>-0.957815</td>\n",
              "      <td>-0.221813</td>\n",
              "      <td>-0.045186</td>\n",
              "      <td>0.446969</td>\n",
              "      <td>0.930378</td>\n",
              "      <td>-0.496699</td>\n",
              "      <td>-0.631141</td>\n",
              "      <td>-0.457429</td>\n",
              "      <td>-0.421247</td>\n",
              "    </tr>\n",
              "    <tr>\n",
              "      <th>20</th>\n",
              "      <td>-0.406499</td>\n",
              "      <td>-0.447826</td>\n",
              "      <td>-0.957815</td>\n",
              "      <td>-0.221813</td>\n",
              "      <td>-0.045186</td>\n",
              "      <td>0.446969</td>\n",
              "      <td>0.930378</td>\n",
              "      <td>-0.496699</td>\n",
              "      <td>-0.631141</td>\n",
              "      <td>-0.457429</td>\n",
              "      <td>-0.421247</td>\n",
              "      <td>-0.450399</td>\n",
              "    </tr>\n",
              "    <tr>\n",
              "      <th>21</th>\n",
              "      <td>-0.447826</td>\n",
              "      <td>-0.957815</td>\n",
              "      <td>-0.221813</td>\n",
              "      <td>-0.045186</td>\n",
              "      <td>0.446969</td>\n",
              "      <td>0.930378</td>\n",
              "      <td>-0.496699</td>\n",
              "      <td>-0.631141</td>\n",
              "      <td>-0.457429</td>\n",
              "      <td>-0.421247</td>\n",
              "      <td>-0.450399</td>\n",
              "      <td>-0.331390</td>\n",
              "    </tr>\n",
              "    <tr>\n",
              "      <th>22</th>\n",
              "      <td>-0.957815</td>\n",
              "      <td>-0.221813</td>\n",
              "      <td>-0.045186</td>\n",
              "      <td>0.446969</td>\n",
              "      <td>0.930378</td>\n",
              "      <td>-0.496699</td>\n",
              "      <td>-0.631141</td>\n",
              "      <td>-0.457429</td>\n",
              "      <td>-0.421247</td>\n",
              "      <td>-0.450399</td>\n",
              "      <td>-0.331390</td>\n",
              "      <td>-0.505273</td>\n",
              "    </tr>\n",
              "    <tr>\n",
              "      <th>23</th>\n",
              "      <td>-0.221813</td>\n",
              "      <td>-0.045186</td>\n",
              "      <td>0.446969</td>\n",
              "      <td>0.930378</td>\n",
              "      <td>-0.496699</td>\n",
              "      <td>-0.631141</td>\n",
              "      <td>-0.457429</td>\n",
              "      <td>-0.421247</td>\n",
              "      <td>-0.450399</td>\n",
              "      <td>-0.331390</td>\n",
              "      <td>-0.505273</td>\n",
              "      <td>-1.000000</td>\n",
              "    </tr>\n",
              "  </tbody>\n",
              "</table>\n",
              "</div>"
            ],
            "text/plain": [
              "    var1(t-12)  var1(t-11)  var1(t-10)  ...  var1(t-3)  var1(t-2)  var1(t-1)\n",
              "12   -0.140701    0.445426    1.000000  ...  -0.447826  -0.957815  -0.221813\n",
              "13    0.445426    1.000000   -0.567693  ...  -0.957815  -0.221813  -0.045186\n",
              "14    1.000000   -0.567693   -0.700077  ...  -0.221813  -0.045186   0.446969\n",
              "15   -0.567693   -0.700077   -0.507331  ...  -0.045186   0.446969   0.930378\n",
              "16   -0.700077   -0.507331   -0.440453  ...   0.446969   0.930378  -0.496699\n",
              "17   -0.507331   -0.440453   -0.383178  ...   0.930378  -0.496699  -0.631141\n",
              "18   -0.440453   -0.383178   -0.406499  ...  -0.496699  -0.631141  -0.457429\n",
              "19   -0.383178   -0.406499   -0.447826  ...  -0.631141  -0.457429  -0.421247\n",
              "20   -0.406499   -0.447826   -0.957815  ...  -0.457429  -0.421247  -0.450399\n",
              "21   -0.447826   -0.957815   -0.221813  ...  -0.421247  -0.450399  -0.331390\n",
              "22   -0.957815   -0.221813   -0.045186  ...  -0.450399  -0.331390  -0.505273\n",
              "23   -0.221813   -0.045186    0.446969  ...  -0.331390  -0.505273  -1.000000\n",
              "\n",
              "[12 rows x 12 columns]"
            ]
          },
          "metadata": {
            "tags": []
          },
          "execution_count": 39
        }
      ]
    },
    {
      "cell_type": "code",
      "metadata": {
        "id": "5b0ZVP6LXXmo",
        "colab": {
          "base_uri": "https://localhost:8080/"
        },
        "outputId": "038f57dc-f994-48d7-861a-370e6d55fd2e"
      },
      "source": [
        "# con la fila \"x\" modificar la fila\n",
        "\n",
        "values = reframed.values\n",
        "x_test = values[11:, :]\n",
        "x_test = x_test.reshape((x_test.shape[0], 1, x_test.shape[1]))\n",
        "x_test"
      ],
      "execution_count": null,
      "outputs": [
        {
          "output_type": "execute_result",
          "data": {
            "text/plain": [
              "array([[[-0.2218126 , -0.04518557,  0.44696903,  0.9303781 ,\n",
              "         -0.49669892, -0.6311412 , -0.45742947, -0.42124665,\n",
              "         -0.45039868, -0.33138984, -0.50527304, -1.        ]]],\n",
              "      dtype=float32)"
            ]
          },
          "metadata": {
            "tags": []
          },
          "execution_count": 40
        }
      ]
    },
    {
      "cell_type": "code",
      "metadata": {
        "id": "UUZybSt_XfGE",
        "colab": {
          "base_uri": "https://localhost:8080/"
        },
        "outputId": "c9bf81ce-a3e6-40e4-b3db-6dc598770006"
      },
      "source": [
        "# con esto lleno la matriz para seguir calculando los días 2 de diciembre en adelante con los 12 previos\n",
        "\n",
        "def agregarNuevoValor(x_test,nuevoValor):\n",
        "    for i in range(x_test.shape[2]-1):\n",
        "        x_test[0][0][i] = x_test[0][0][i+1]\n",
        "    x_test[0][0][x_test.shape[2]-1]=nuevoValor\n",
        "    return x_test\n",
        "\n",
        "results=[]\n",
        "for i in range(24):\n",
        "    parcial=model.predict(x_test)\n",
        "    results.append(parcial[0])\n",
        "    print(x_test)\n",
        "    x_test=agregarNuevoValor(x_test,parcial[0])"
      ],
      "execution_count": null,
      "outputs": [
        {
          "output_type": "stream",
          "text": [
            "[[[-0.2218126  -0.04518557  0.44696903  0.9303781  -0.49669892\n",
            "   -0.6311412  -0.45742947 -0.42124665 -0.45039868 -0.33138984\n",
            "   -0.50527304 -1.        ]]]\n",
            "[[[-0.04518557  0.44696903  0.9303781  -0.49669892 -0.6311412\n",
            "   -0.45742947 -0.42124665 -0.45039868 -0.33138984 -0.50527304\n",
            "   -1.         -0.19367954]]]\n",
            "[[[ 0.44696903  0.9303781  -0.49669892 -0.6311412  -0.45742947\n",
            "   -0.42124665 -0.45039868 -0.33138984 -0.50527304 -1.\n",
            "   -0.19367954  0.2776371 ]]]\n",
            "[[[ 0.9303781  -0.49669892 -0.6311412  -0.45742947 -0.42124665\n",
            "   -0.45039868 -0.33138984 -0.50527304 -1.         -0.19367954\n",
            "    0.2776371   0.64454716]]]\n",
            "[[[-0.49669892 -0.6311412  -0.45742947 -0.42124665 -0.45039868\n",
            "   -0.33138984 -0.50527304 -1.         -0.19367954  0.2776371\n",
            "    0.64454716  0.87142396]]]\n",
            "[[[-0.6311412  -0.45742947 -0.42124665 -0.45039868 -0.33138984\n",
            "   -0.50527304 -1.         -0.19367954  0.2776371   0.64454716\n",
            "    0.87142396 -0.61674887]]]\n",
            "[[[-0.45742947 -0.42124665 -0.45039868 -0.33138984 -0.50527304\n",
            "   -1.         -0.19367954  0.2776371   0.64454716  0.87142396\n",
            "   -0.61674887 -0.75192684]]]\n",
            "[[[-0.42124665 -0.45039868 -0.33138984 -0.50527304 -1.\n",
            "   -0.19367954  0.2776371   0.64454716  0.87142396 -0.61674887\n",
            "   -0.75192684 -0.49018916]]]\n",
            "[[[-0.45039868 -0.33138984 -0.50527304 -1.         -0.19367954\n",
            "    0.2776371   0.64454716  0.87142396 -0.61674887 -0.75192684\n",
            "   -0.49018916 -0.41620582]]]\n",
            "[[[-0.33138984 -0.50527304 -1.         -0.19367954  0.2776371\n",
            "    0.64454716  0.87142396 -0.61674887 -0.75192684 -0.49018916\n",
            "   -0.41620582 -0.37637937]]]\n",
            "[[[-0.50527304 -1.         -0.19367954  0.2776371   0.64454716\n",
            "    0.87142396 -0.61674887 -0.75192684 -0.49018916 -0.41620582\n",
            "   -0.37637937 -0.3316559 ]]]\n",
            "[[[-1.         -0.19367954  0.2776371   0.64454716  0.87142396\n",
            "   -0.61674887 -0.75192684 -0.49018916 -0.41620582 -0.37637937\n",
            "   -0.3316559  -0.617177  ]]]\n",
            "[[[-0.19367954  0.2776371   0.64454716  0.87142396 -0.61674887\n",
            "   -0.75192684 -0.49018916 -0.41620582 -0.37637937 -0.3316559\n",
            "   -0.617177   -0.8229654 ]]]\n",
            "[[[ 0.2776371   0.64454716  0.87142396 -0.61674887 -0.75192684\n",
            "   -0.49018916 -0.41620582 -0.37637937 -0.3316559  -0.617177\n",
            "   -0.8229654  -0.15238261]]]\n",
            "[[[ 0.64454716  0.87142396 -0.61674887 -0.75192684 -0.49018916\n",
            "   -0.41620582 -0.37637937 -0.3316559  -0.617177   -0.8229654\n",
            "   -0.15238261  0.65080106]]]\n",
            "[[[ 0.87142396 -0.61674887 -0.75192684 -0.49018916 -0.41620582\n",
            "   -0.37637937 -0.3316559  -0.617177   -0.8229654  -0.15238261\n",
            "    0.65080106  0.766715  ]]]\n",
            "[[[-0.61674887 -0.75192684 -0.49018916 -0.41620582 -0.37637937\n",
            "   -0.3316559  -0.617177   -0.8229654  -0.15238261  0.65080106\n",
            "    0.766715    0.8384937 ]]]\n",
            "[[[-0.75192684 -0.49018916 -0.41620582 -0.37637937 -0.3316559\n",
            "   -0.617177   -0.8229654  -0.15238261  0.65080106  0.766715\n",
            "    0.8384937  -0.74896884]]]\n",
            "[[[-0.49018916 -0.41620582 -0.37637937 -0.3316559  -0.617177\n",
            "   -0.8229654  -0.15238261  0.65080106  0.766715    0.8384937\n",
            "   -0.74896884 -0.8285651 ]]]\n",
            "[[[-0.41620582 -0.37637937 -0.3316559  -0.617177   -0.8229654\n",
            "   -0.15238261  0.65080106  0.766715    0.8384937  -0.74896884\n",
            "   -0.8285651  -0.52031016]]]\n",
            "[[[-0.37637937 -0.3316559  -0.617177   -0.8229654  -0.15238261\n",
            "    0.65080106  0.766715    0.8384937  -0.74896884 -0.8285651\n",
            "   -0.52031016 -0.35963663]]]\n",
            "[[[-0.3316559  -0.617177   -0.8229654  -0.15238261  0.65080106\n",
            "    0.766715    0.8384937  -0.74896884 -0.8285651  -0.52031016\n",
            "   -0.35963663 -0.33109435]]]\n",
            "[[[-0.617177   -0.8229654  -0.15238261  0.65080106  0.766715\n",
            "    0.8384937  -0.74896884 -0.8285651  -0.52031016 -0.35963663\n",
            "   -0.33109435 -0.30392307]]]\n",
            "[[[-0.8229654  -0.15238261  0.65080106  0.766715    0.8384937\n",
            "   -0.74896884 -0.8285651  -0.52031016 -0.35963663 -0.33109435\n",
            "   -0.30392307 -0.6992097 ]]]\n"
          ],
          "name": "stdout"
        }
      ]
    },
    {
      "cell_type": "code",
      "metadata": {
        "id": "akiwGAogXfQ8",
        "colab": {
          "base_uri": "https://localhost:8080/"
        },
        "outputId": "973b087d-5741-495a-8b89-82ddf77289ee"
      },
      "source": [
        "# invierto los valores pronosticados para que se entienda original valores escalados\n",
        "\n",
        "adimen = [x for x in results]    \n",
        "inverted = scaler.inverse_transform(adimen)\n",
        "inverted"
      ],
      "execution_count": null,
      "outputs": [
        {
          "output_type": "execute_result",
          "data": {
            "text/plain": [
              "array([[ 6115.0576818 ],\n",
              "       [ 8863.54071868],\n",
              "       [11003.17685237],\n",
              "       [12326.20892085],\n",
              "       [ 3647.92882664],\n",
              "       [ 2859.63847309],\n",
              "       [ 4385.96176418],\n",
              "       [ 4817.39563186],\n",
              "       [ 5049.64359741],\n",
              "       [ 5310.44858376],\n",
              "       [ 3645.43212721],\n",
              "       [ 2445.37719121],\n",
              "       [ 6355.88073066],\n",
              "       [11039.6464604 ],\n",
              "       [11715.59854771],\n",
              "       [12134.17613386],\n",
              "       [ 2876.88804886],\n",
              "       [ 2412.72232301],\n",
              "       [ 4210.31115584],\n",
              "       [ 5147.2788657 ],\n",
              "       [ 5313.72317729],\n",
              "       [ 5472.17252411],\n",
              "       [ 3167.05853752],\n",
              "       [ 3020.50857212]])"
            ]
          },
          "metadata": {
            "tags": []
          },
          "execution_count": 42
        }
      ]
    },
    {
      "cell_type": "code",
      "metadata": {
        "id": "u3HPJQe7Z9wa",
        "colab": {
          "base_uri": "https://localhost:8080/",
          "height": 237
        },
        "outputId": "4ed532b6-681a-4678-c880-c40163bd346a"
      },
      "source": [
        "# concatenar df\n",
        "\n",
        "df.head()"
      ],
      "execution_count": null,
      "outputs": [
        {
          "output_type": "execute_result",
          "data": {
            "text/html": [
              "<div>\n",
              "<style scoped>\n",
              "    .dataframe tbody tr th:only-of-type {\n",
              "        vertical-align: middle;\n",
              "    }\n",
              "\n",
              "    .dataframe tbody tr th {\n",
              "        vertical-align: top;\n",
              "    }\n",
              "\n",
              "    .dataframe thead th {\n",
              "        text-align: right;\n",
              "    }\n",
              "</style>\n",
              "<table border=\"1\" class=\"dataframe\">\n",
              "  <thead>\n",
              "    <tr style=\"text-align: right;\">\n",
              "      <th></th>\n",
              "      <th>demand</th>\n",
              "    </tr>\n",
              "    <tr>\n",
              "      <th>timestamp</th>\n",
              "      <th></th>\n",
              "    </tr>\n",
              "  </thead>\n",
              "  <tbody>\n",
              "    <tr>\n",
              "      <th>1964-01-01</th>\n",
              "      <td>2815</td>\n",
              "    </tr>\n",
              "    <tr>\n",
              "      <th>1964-02-01</th>\n",
              "      <td>2672</td>\n",
              "    </tr>\n",
              "    <tr>\n",
              "      <th>1964-03-01</th>\n",
              "      <td>2755</td>\n",
              "    </tr>\n",
              "    <tr>\n",
              "      <th>1964-04-01</th>\n",
              "      <td>2721</td>\n",
              "    </tr>\n",
              "    <tr>\n",
              "      <th>1964-05-01</th>\n",
              "      <td>2946</td>\n",
              "    </tr>\n",
              "  </tbody>\n",
              "</table>\n",
              "</div>"
            ],
            "text/plain": [
              "            demand\n",
              "timestamp         \n",
              "1964-01-01    2815\n",
              "1964-02-01    2672\n",
              "1964-03-01    2755\n",
              "1964-04-01    2721\n",
              "1964-05-01    2946"
            ]
          },
          "metadata": {
            "tags": []
          },
          "execution_count": 43
        }
      ]
    },
    {
      "cell_type": "code",
      "metadata": {
        "id": "ZjI7niQAfi1Y",
        "colab": {
          "base_uri": "https://localhost:8080/"
        },
        "outputId": "32f469f8-b675-4afb-a4fb-ea571af09414"
      },
      "source": [
        "y_pred=pd.DataFrame(inverted)\n",
        "len(y_pred)"
      ],
      "execution_count": null,
      "outputs": [
        {
          "output_type": "execute_result",
          "data": {
            "text/plain": [
              "24"
            ]
          },
          "metadata": {
            "tags": []
          },
          "execution_count": 44
        }
      ]
    },
    {
      "cell_type": "code",
      "metadata": {
        "id": "CM3cBlwMddtC",
        "colab": {
          "base_uri": "https://localhost:8080/",
          "height": 206
        },
        "outputId": "527d7316-aa26-4a62-cfa5-c400e1f9eef2"
      },
      "source": [
        "y_pred.tail()"
      ],
      "execution_count": null,
      "outputs": [
        {
          "output_type": "execute_result",
          "data": {
            "text/html": [
              "<div>\n",
              "<style scoped>\n",
              "    .dataframe tbody tr th:only-of-type {\n",
              "        vertical-align: middle;\n",
              "    }\n",
              "\n",
              "    .dataframe tbody tr th {\n",
              "        vertical-align: top;\n",
              "    }\n",
              "\n",
              "    .dataframe thead th {\n",
              "        text-align: right;\n",
              "    }\n",
              "</style>\n",
              "<table border=\"1\" class=\"dataframe\">\n",
              "  <thead>\n",
              "    <tr style=\"text-align: right;\">\n",
              "      <th></th>\n",
              "      <th>0</th>\n",
              "    </tr>\n",
              "  </thead>\n",
              "  <tbody>\n",
              "    <tr>\n",
              "      <th>19</th>\n",
              "      <td>5147.278866</td>\n",
              "    </tr>\n",
              "    <tr>\n",
              "      <th>20</th>\n",
              "      <td>5313.723177</td>\n",
              "    </tr>\n",
              "    <tr>\n",
              "      <th>21</th>\n",
              "      <td>5472.172524</td>\n",
              "    </tr>\n",
              "    <tr>\n",
              "      <th>22</th>\n",
              "      <td>3167.058538</td>\n",
              "    </tr>\n",
              "    <tr>\n",
              "      <th>23</th>\n",
              "      <td>3020.508572</td>\n",
              "    </tr>\n",
              "  </tbody>\n",
              "</table>\n",
              "</div>"
            ],
            "text/plain": [
              "              0\n",
              "19  5147.278866\n",
              "20  5313.723177\n",
              "21  5472.172524\n",
              "22  3167.058538\n",
              "23  3020.508572"
            ]
          },
          "metadata": {
            "tags": []
          },
          "execution_count": 45
        }
      ]
    },
    {
      "cell_type": "code",
      "metadata": {
        "id": "9KVbV3QTgNDk"
      },
      "source": [
        "df2=pd.concat([df,y_pred])"
      ],
      "execution_count": null,
      "outputs": []
    },
    {
      "cell_type": "code",
      "metadata": {
        "id": "0e3yUriDgX9S",
        "colab": {
          "base_uri": "https://localhost:8080/",
          "height": 283
        },
        "outputId": "a00e7b85-a338-4004-bd68-195cfd14db4d"
      },
      "source": [
        "df2.plot()"
      ],
      "execution_count": null,
      "outputs": [
        {
          "output_type": "execute_result",
          "data": {
            "text/plain": [
              "<matplotlib.axes._subplots.AxesSubplot at 0x7faee939bbd0>"
            ]
          },
          "metadata": {
            "tags": []
          },
          "execution_count": 47
        },
        {
          "output_type": "display_data",
          "data": {
            "image/png": "[encoded data removed]",
            "text/plain": [
              "<Figure size 432x288 with 1 Axes>"
            ]
          },
          "metadata": {
            "tags": [],
            "needs_background": "light"
          }
        }
      ]
    },
    {
      "cell_type": "code",
      "metadata": {
        "id": "rPHyYl1NdF2p",
        "colab": {
          "base_uri": "https://localhost:8080/"
        },
        "outputId": "ebf199a7-9326-42fe-821c-134bd8ec4c1a"
      },
      "source": [
        "df2.columns"
      ],
      "execution_count": null,
      "outputs": [
        {
          "output_type": "execute_result",
          "data": {
            "text/plain": [
              "Index(['sales', 0], dtype='object')"
            ]
          },
          "metadata": {
            "tags": []
          },
          "execution_count": 32
        }
      ]
    },
    {
      "cell_type": "code",
      "metadata": {
        "id": "KFio06UddWv3",
        "colab": {
          "base_uri": "https://localhost:8080/",
          "height": 196
        },
        "outputId": "eca4cb39-853a-4a15-ee1a-46d2700034f2"
      },
      "source": [
        "df2.head()"
      ],
      "execution_count": null,
      "outputs": [
        {
          "output_type": "execute_result",
          "data": {
            "text/html": [
              "<div>\n",
              "<style scoped>\n",
              "    .dataframe tbody tr th:only-of-type {\n",
              "        vertical-align: middle;\n",
              "    }\n",
              "\n",
              "    .dataframe tbody tr th {\n",
              "        vertical-align: top;\n",
              "    }\n",
              "\n",
              "    .dataframe thead th {\n",
              "        text-align: right;\n",
              "    }\n",
              "</style>\n",
              "<table border=\"1\" class=\"dataframe\">\n",
              "  <thead>\n",
              "    <tr style=\"text-align: right;\">\n",
              "      <th></th>\n",
              "      <th>sales</th>\n",
              "      <th>0</th>\n",
              "    </tr>\n",
              "  </thead>\n",
              "  <tbody>\n",
              "    <tr>\n",
              "      <th>1964-01-01 00:00:00</th>\n",
              "      <td>2815.0</td>\n",
              "      <td>NaN</td>\n",
              "    </tr>\n",
              "    <tr>\n",
              "      <th>1964-02-01 00:00:00</th>\n",
              "      <td>2672.0</td>\n",
              "      <td>NaN</td>\n",
              "    </tr>\n",
              "    <tr>\n",
              "      <th>1964-03-01 00:00:00</th>\n",
              "      <td>2755.0</td>\n",
              "      <td>NaN</td>\n",
              "    </tr>\n",
              "    <tr>\n",
              "      <th>1964-04-01 00:00:00</th>\n",
              "      <td>2721.0</td>\n",
              "      <td>NaN</td>\n",
              "    </tr>\n",
              "    <tr>\n",
              "      <th>1964-05-01 00:00:00</th>\n",
              "      <td>2946.0</td>\n",
              "      <td>NaN</td>\n",
              "    </tr>\n",
              "  </tbody>\n",
              "</table>\n",
              "</div>"
            ],
            "text/plain": [
              "                      sales   0\n",
              "1964-01-01 00:00:00  2815.0 NaN\n",
              "1964-02-01 00:00:00  2672.0 NaN\n",
              "1964-03-01 00:00:00  2755.0 NaN\n",
              "1964-04-01 00:00:00  2721.0 NaN\n",
              "1964-05-01 00:00:00  2946.0 NaN"
            ]
          },
          "metadata": {
            "tags": []
          },
          "execution_count": 33
        }
      ]
    }
  ]
}